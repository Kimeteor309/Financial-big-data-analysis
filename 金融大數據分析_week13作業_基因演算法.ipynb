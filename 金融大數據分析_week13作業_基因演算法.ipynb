{
  "nbformat": 4,
  "nbformat_minor": 0,
  "metadata": {
    "colab": {
      "provenance": [],
      "authorship_tag": "ABX9TyP9V3koRGNqnWVUbvENkYYU",
      "include_colab_link": true
    },
    "kernelspec": {
      "name": "python3",
      "display_name": "Python 3"
    },
    "language_info": {
      "name": "python"
    }
  },
  "cells": [
    {
      "cell_type": "markdown",
      "metadata": {
        "id": "view-in-github",
        "colab_type": "text"
      },
      "source": [
        "<a href=\"https://colab.research.google.com/github/Kimeteor309/Financial-big-data-analysis/blob/main/%E9%87%91%E8%9E%8D%E5%A4%A7%E6%95%B8%E6%93%9A%E5%88%86%E6%9E%90_week13%E4%BD%9C%E6%A5%AD_%E5%9F%BA%E5%9B%A0%E6%BC%94%E7%AE%97%E6%B3%95.ipynb\" target=\"_parent\"><img src=\"https://colab.research.google.com/assets/colab-badge.svg\" alt=\"Open In Colab\"/></a>"
      ]
    },
    {
      "cell_type": "code",
      "source": [
        "pip install yfinance numpy"
      ],
      "metadata": {
        "colab": {
          "base_uri": "https://localhost:8080/"
        },
        "id": "fOib5hA8t-qe",
        "outputId": "cd8ffebb-2b9e-4482-dba6-ece82f73a470"
      },
      "execution_count": 1,
      "outputs": [
        {
          "output_type": "stream",
          "name": "stdout",
          "text": [
            "Requirement already satisfied: yfinance in /usr/local/lib/python3.10/dist-packages (0.2.49)\n",
            "Requirement already satisfied: numpy in /usr/local/lib/python3.10/dist-packages (1.26.4)\n",
            "Requirement already satisfied: pandas>=1.3.0 in /usr/local/lib/python3.10/dist-packages (from yfinance) (2.2.2)\n",
            "Requirement already satisfied: requests>=2.31 in /usr/local/lib/python3.10/dist-packages (from yfinance) (2.32.3)\n",
            "Requirement already satisfied: multitasking>=0.0.7 in /usr/local/lib/python3.10/dist-packages (from yfinance) (0.0.11)\n",
            "Requirement already satisfied: lxml>=4.9.1 in /usr/local/lib/python3.10/dist-packages (from yfinance) (5.3.0)\n",
            "Requirement already satisfied: platformdirs>=2.0.0 in /usr/local/lib/python3.10/dist-packages (from yfinance) (4.3.6)\n",
            "Requirement already satisfied: pytz>=2022.5 in /usr/local/lib/python3.10/dist-packages (from yfinance) (2024.2)\n",
            "Requirement already satisfied: frozendict>=2.3.4 in /usr/local/lib/python3.10/dist-packages (from yfinance) (2.4.6)\n",
            "Requirement already satisfied: peewee>=3.16.2 in /usr/local/lib/python3.10/dist-packages (from yfinance) (3.17.8)\n",
            "Requirement already satisfied: beautifulsoup4>=4.11.1 in /usr/local/lib/python3.10/dist-packages (from yfinance) (4.12.3)\n",
            "Requirement already satisfied: html5lib>=1.1 in /usr/local/lib/python3.10/dist-packages (from yfinance) (1.1)\n",
            "Requirement already satisfied: soupsieve>1.2 in /usr/local/lib/python3.10/dist-packages (from beautifulsoup4>=4.11.1->yfinance) (2.6)\n",
            "Requirement already satisfied: six>=1.9 in /usr/local/lib/python3.10/dist-packages (from html5lib>=1.1->yfinance) (1.16.0)\n",
            "Requirement already satisfied: webencodings in /usr/local/lib/python3.10/dist-packages (from html5lib>=1.1->yfinance) (0.5.1)\n",
            "Requirement already satisfied: python-dateutil>=2.8.2 in /usr/local/lib/python3.10/dist-packages (from pandas>=1.3.0->yfinance) (2.8.2)\n",
            "Requirement already satisfied: tzdata>=2022.7 in /usr/local/lib/python3.10/dist-packages (from pandas>=1.3.0->yfinance) (2024.2)\n",
            "Requirement already satisfied: charset-normalizer<4,>=2 in /usr/local/lib/python3.10/dist-packages (from requests>=2.31->yfinance) (3.4.0)\n",
            "Requirement already satisfied: idna<4,>=2.5 in /usr/local/lib/python3.10/dist-packages (from requests>=2.31->yfinance) (3.10)\n",
            "Requirement already satisfied: urllib3<3,>=1.21.1 in /usr/local/lib/python3.10/dist-packages (from requests>=2.31->yfinance) (2.2.3)\n",
            "Requirement already satisfied: certifi>=2017.4.17 in /usr/local/lib/python3.10/dist-packages (from requests>=2.31->yfinance) (2024.8.30)\n"
          ]
        }
      ]
    },
    {
      "cell_type": "code",
      "source": [
        "import yfinance as yf\n",
        "import numpy as np\n",
        "\n",
        "# 股票池\n",
        "tickers = [\"AAPL\", \"MSFT\", \"GOOGL\", \"AMZN\", \"TSLA\", \"META\", \"NVDA\", \"JPM\", \"V\", \"JNJ\"] # 使用更多股票（例如加入科技、醫療、金融等不同行業的標的）來測試\n",
        "\n",
        "# 獲取歷史價格\n",
        "def get_stock_data(tickers, start_date, end_date):\n",
        "    data = yf.download(tickers, start=start_date, end=end_date)['Adj Close']\n",
        "    return data\n",
        "\n",
        "# 計算日回報率和其期望值、風險\n",
        "def calculate_returns_and_risks(data):\n",
        "    returns = data.pct_change().dropna()\n",
        "    mean_returns = returns.mean()  # 平均回報率\n",
        "    risks = returns.std()  # 標準差作為風險指標\n",
        "    return mean_returns.values, risks.values\n",
        "\n",
        "# 獲取股票數據\n",
        "start_date = \"2023-01-01\"\n",
        "end_date = \"2024-01-01\"\n",
        "data = get_stock_data(tickers, start_date, end_date)\n",
        "mean_returns, risks = calculate_returns_and_risks(data)\n"
      ],
      "metadata": {
        "colab": {
          "base_uri": "https://localhost:8080/"
        },
        "id": "s_xzmPxCt_oo",
        "outputId": "267abddb-3cf9-4978-d9f4-c7c704544427"
      },
      "execution_count": 2,
      "outputs": [
        {
          "output_type": "stream",
          "name": "stderr",
          "text": [
            "[*********************100%***********************]  10 of 10 completed\n"
          ]
        }
      ]
    },
    {
      "cell_type": "code",
      "source": [
        "# 基因演算法參數\n",
        "population_size = 50\n",
        "generations = 100\n",
        "mutation_rate = 0.05 # 增加突變率\n",
        "num_stocks = len(tickers)\n",
        "\n",
        "# 新的適應函數\n",
        "def fitness(chromosome):\n",
        "    selected_returns = mean_returns[chromosome == 1]\n",
        "    selected_risks = risks[chromosome == 1]\n",
        "    num_selected = np.sum(chromosome) # 選股數量\n",
        "    max_stocks = 5  # 最大持股數量\n",
        "    if len(selected_returns) == 0 or num_selected > max_stocks or np.mean(selected_returns) < 0.002: # 避免空組合或超過限制、設定回報下限\n",
        "        return 0  # 返回最低適應值，而不是負值\n",
        "    return np.mean(selected_returns) - 0.7 * np.mean(selected_risks) + 0.1 * num_selected # 增加多樣性懲罰，鼓勵選擇更多股票；目前風險權重0.5，可以更改成0.7(保守型)或0.3(機進型)\n",
        "\n",
        "# 初始化族群\n",
        "population = np.random.choice([0, 1], size=(population_size, num_stocks), p=[0.5, 0.5]) # 初始化族群：隨機產生多樣化初始族群\n",
        "\n",
        "# 基因演算法主迴圈\n",
        "for generation in range(generations):\n",
        "    fitness_scores = np.array([fitness(ind) for ind in population])\n",
        "\n",
        "    # 選擇\n",
        "    probabilities = fitness_scores / fitness_scores.sum()\n",
        "    selected_indices = np.random.choice(range(population_size), size=population_size, p=probabilities)\n",
        "    selected_population = population[selected_indices]\n",
        "\n",
        "    # 交配\n",
        "    new_population = []\n",
        "    for i in range(0, population_size, 2):\n",
        "        parent1, parent2 = selected_population[i], selected_population[i + 1]\n",
        "        crossover_point = np.random.randint(1, num_stocks - 1)\n",
        "        child1 = np.concatenate([parent1[:crossover_point], parent2[crossover_point:]])\n",
        "        child2 = np.concatenate([parent2[:crossover_point], parent1[crossover_point:]])\n",
        "        new_population.extend([child1, child2])\n",
        "\n",
        "    # 突變\n",
        "    for individual in new_population:\n",
        "        if np.random.rand() < mutation_rate:\n",
        "            mutation_point = np.random.randint(0, num_stocks)\n",
        "            individual[mutation_point] = 1 - individual[mutation_point]\n",
        "\n",
        "    population = np.array(new_population)\n",
        "\n",
        "# 找出最佳解\n",
        "best_chromosome = population[np.argmax([fitness(ind) for ind in population])]\n",
        "selected_stocks = [tickers[i] for i, selected in enumerate(best_chromosome) if selected == 1]\n",
        "best_return = np.mean(mean_returns[best_chromosome == 1])\n",
        "best_risk = np.mean(risks[best_chromosome == 1])\n",
        "\n",
        "print(\"最佳投資組合：\", selected_stocks)\n",
        "print(\"期望回報率：\", best_return)\n",
        "print(\"風險：\", best_risk)\n"
      ],
      "metadata": {
        "colab": {
          "base_uri": "https://localhost:8080/"
        },
        "id": "OawNzpHwuGdV",
        "outputId": "39e62520-55b4-4a55-db91-2d63357b9933"
      },
      "execution_count": 10,
      "outputs": [
        {
          "output_type": "stream",
          "name": "stdout",
          "text": [
            "最佳投資組合： ['AAPL', 'TSLA', 'META', 'NVDA', 'JPM']\n",
            "期望回報率： 0.0029739711269423435\n",
            "風險： 0.019419434632817967\n"
          ]
        }
      ]
    },
    {
      "cell_type": "code",
      "source": [],
      "metadata": {
        "id": "kpdT1AnHMoro"
      },
      "execution_count": null,
      "outputs": []
    }
  ]
}